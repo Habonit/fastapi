{
 "cells": [
  {
   "cell_type": "markdown",
   "metadata": {},
   "source": [
    "## CPU BOUND vs I/O BOUND"
   ]
  },
  {
   "cell_type": "code",
   "execution_count": null,
   "metadata": {},
   "outputs": [],
   "source": [
    "# cpu bound란, cpu 상 연산량 증가에 의해 시간이 오래걸리는 것이다.\n",
    "def cpu_bound_func(number: int):\n",
    "    total = 1\n",
    "    arrange = range(1, number + 1)\n",
    "    for i in arrange:\n",
    "        for j in arrange:\n",
    "            for k in arrange:\n",
    "                total *= i * j * k\n",
    "\n",
    "    return total\n",
    "\n",
    "\n",
    "if __name__ == \"__main__\":\n",
    "    result = cpu_bound_func(10)\n",
    "    print(result)"
   ]
  },
  {
   "cell_type": "code",
   "execution_count": null,
   "metadata": {},
   "outputs": [],
   "source": [
    "#이는 cpu 연산 처리가 아니라 응답을 기다리는 것에 의해 속도가 느려지는 상황에 대한 예시이다.\n",
    "#보통은 웹과의 통신에 의해 I/O 속도가 늦어져 느려진다.\n",
    "def io_bound_func():\n",
    "    print(\"값을 입력해주세요.\")\n",
    "    input_value = input()\n",
    "    return int(input_value) + 100\n",
    "\n",
    "\n",
    "if __name__ == \"__main__\":\n",
    "    result = io_bound_func()\n",
    "    print(result)\n",
    "    "
   ]
  },
  {
   "cell_type": "code",
   "execution_count": 7,
   "metadata": {},
   "outputs": [
    {
     "name": "stdout",
     "output_type": "stream",
     "text": [
      "<Response [200]>\n"
     ]
    }
   ],
   "source": [
    "# I/O BOUND의 예시\n",
    "import requests\n",
    "\n",
    "def io_bound_func():\n",
    "    result = requests.get(\"https://google.com\")\n",
    "    return result\n",
    "\n",
    "\n",
    "if __name__ == \"__main__\":\n",
    "    result = io_bound_func()\n",
    "    print(result)\n"
   ]
  }
 ],
 "metadata": {
  "kernelspec": {
   "display_name": ".env",
   "language": "python",
   "name": "python3"
  },
  "language_info": {
   "codemirror_mode": {
    "name": "ipython",
    "version": 3
   },
   "file_extension": ".py",
   "mimetype": "text/x-python",
   "name": "python",
   "nbconvert_exporter": "python",
   "pygments_lexer": "ipython3",
   "version": "3.9.20"
  }
 },
 "nbformat": 4,
 "nbformat_minor": 2
}
