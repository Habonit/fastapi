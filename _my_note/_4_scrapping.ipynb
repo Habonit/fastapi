{
 "cells": [
  {
   "cell_type": "code",
   "execution_count": null,
   "metadata": {},
   "outputs": [],
   "source": [
    "# beautiful soup는 webscrapping을 하는 tool \n",
    "from bs4 import BeautifulSoup\n",
    "\n",
    "html_doc = \"\"\"\n",
    "<html><head><title>The Dormouse's story</title></head>\n",
    "<body>\n",
    "<p class=\"title\"><b>The Dormouse's story</b></p>\n",
    "\n",
    "<p class=\"story\">Once upon a time there were three little sisters; and their names were\n",
    "<a href=\"http://example.com/elsie\" class=\"sister\" id=\"link1\">Elsie</a>,\n",
    "<a href=\"http://example.com/lacie\" class=\"sister\" id=\"link2\">Lacie</a> and\n",
    "<a href=\"http://example.com/tillie\" class=\"sister\" id=\"link3\">Tillie</a>;\n",
    "and they lived at the bottom of a well.</p>\n",
    "\n",
    "<p class=\"story\">...</p>\n",
    "\"\"\"\n",
    "\n",
    "soup = BeautifulSoup(html_doc, 'html.parser')\n",
    "print(soup.prettify())\n"
   ]
  },
  {
   "cell_type": "code",
   "execution_count": null,
   "metadata": {},
   "outputs": [],
   "source": [
    "print(soup.title)"
   ]
  },
  {
   "cell_type": "code",
   "execution_count": null,
   "metadata": {},
   "outputs": [],
   "source": [
    "print(soup.p)"
   ]
  },
  {
   "cell_type": "code",
   "execution_count": null,
   "metadata": {},
   "outputs": [],
   "source": [
    "print(soup.find('p','title'))"
   ]
  },
  {
   "cell_type": "code",
   "execution_count": null,
   "metadata": {},
   "outputs": [],
   "source": [
    "# response는 200이 나오면 정상 \n",
    "import requests\n",
    "\n",
    "base_url = 'https://bjpublic.tistory.com/category/%EC%A0%84%EC%B2%B4%20%EC%B6%9C%EA%B0%84%20%EB%8F%84%EC%84%9C?page=1'\n",
    "response = requests.get(base_url)\n",
    "if response.status_code == 200:\n",
    "    soup = BeautifulSoup(response.text, 'html.parser')\n",
    "    # html = response.text"
   ]
  },
  {
   "cell_type": "code",
   "execution_count": null,
   "metadata": {},
   "outputs": [],
   "source": [
    "soup.find('div')"
   ]
  },
  {
   "cell_type": "code",
   "execution_count": null,
   "metadata": {},
   "outputs": [],
   "source": [
    "import asyncio\n",
    "import aiohttp\n",
    "import nest_asyncio\n",
    "nest_asyncio.apply()\n",
    "async def fetch(session, url, i):\n",
    "    print(i + 1)\n",
    "    async with session.get(url) as response:\n",
    "        html = await response.text()\n",
    "        soup = BeautifulSoup(html, \"html.parser\")\n",
    "        cont_thumb = soup.find_all(\"div\", \"cont_thumb\")\n",
    "        for cont in cont_thumb:\n",
    "            title = cont.find(\"p\", \"txt_thumb\")\n",
    "            if title is not None:\n",
    "                print(title.text)\n",
    "\n",
    "\n",
    "async def main():\n",
    "    BASE_URL = \"https://bjpublic.tistory.com/category/%EC%A0%84%EC%B2%B4%20%EC%B6%9C%EA%B0%84%20%EB%8F%84%EC%84%9C\"\n",
    "    urls = [f\"{BASE_URL}?page={i}\" for i in range(1, 10)]\n",
    "    async with aiohttp.ClientSession() as session:\n",
    "        await asyncio.gather(*[fetch(session, url, i) for i, url in enumerate(urls)])\n",
    "\n",
    "\n",
    "if __name__ == \"__main__\":\n",
    "    asyncio.run(main())\n"
   ]
  },
  {
   "cell_type": "code",
   "execution_count": null,
   "metadata": {},
   "outputs": [],
   "source": [
    "# magic variable = __name__\n",
    "import aiohttp\n",
    "import asyncio\n",
    "import nest_asyncio\n",
    "from config import get_secret\n",
    "nest_asyncio.apply()\n",
    "\n",
    "async def fetch(session, url, i):\n",
    "    print(i + 1)\n",
    "    headers = {\n",
    "        'X-Naver-Client-ID':get_secret('X-Naver-Client-ID'),\n",
    "        'X-Naver-Client-Secret':get_secret('X-Naver-Client-Secret')\n",
    "    }\n",
    "    async with session.get(url, headers=headers) as response:\n",
    "        result = await response.json()\n",
    "        items = result['items']\n",
    "        images = [item['link'] for item in items]\n",
    "        print(images)\n",
    "\n",
    "async def main():\n",
    "    BASE_URL = \"https://openapi.naver.com/v1/search/image\"\n",
    "    keyword = 'cat'\n",
    "    urls = [f'{BASE_URL}?query={keyword}&display=20&start={i}' for i in range(1,10)]\n",
    "    async with aiohttp.ClientSession() as session:\n",
    "        await asyncio.gather(*[fetch(session, url, i) for i, url in enumerate(urls)])\n",
    "\n",
    "\n",
    "\n",
    "if __name__ == '__main__':\n",
    "    asyncio.run(main())"
   ]
  },
  {
   "cell_type": "code",
   "execution_count": null,
   "metadata": {},
   "outputs": [],
   "source": [
    "import os\n",
    "import aiohttp\n",
    "import asyncio\n",
    "from config import get_secret\n",
    "import aiofiles\n",
    "\n",
    "# 함수 앞에 async를 붙인다.\n",
    "async def img_downloader(session, img):\n",
    "    img_name = img.split('/')[-1].split('?')[0]\n",
    "    try :\n",
    "        os.mkdir('./images')\n",
    "    \n",
    "    except FileExistsError as e:\n",
    "        pass\n",
    "    async with session.get(img) as response:\n",
    "        if response.status == 200:\n",
    "            async with aiofiles.open(f'./images/{img_name}', mode='wb') as file:\n",
    "                img_data = await response.read()\n",
    "                await file.write(img_data)\n",
    "async def fetch(session, url, i):\n",
    "    print(i+1)\n",
    "    headers = {\n",
    "        'X-Naver-Client-Id': get_secret('X-Naver-Client-ID'),\n",
    "        'X-Naver-Client-Secret' : get_secret(\"X-Naver-Client-Secret\"),\n",
    "        \n",
    "    }\n",
    "    async with session.get(url, headers=headers) as response:\n",
    "        result = await response.json()\n",
    "        items = result['items']\n",
    "        images = [item['link'] for item in items]\n",
    "        \n",
    "        # *을 붙이면 tuple 형태로 input이 된다. \n",
    "        await asyncio.gather(*[img_downloader(session, img) for img in images])\n",
    "async def main():\n",
    "    BASE_URL = \"https://openapi.naver.com/v1/search/image\"\n",
    "    keyword = 'cat'\n",
    "    urls = [f'{BASE_URL}?query={keyword}&display=20&start={1+i*20}' for i in range(10)]\n",
    "    async with aiohttp.ClientSession() as session:\n",
    "        await asyncio.gather(*[fetch(session, url, i) for i, url in enumerate(urls)])  \n",
    "    \n",
    "if __name__ == \"__main__\":\n",
    "    asyncio.run(main())"
   ]
  },
  {
   "cell_type": "code",
   "execution_count": null,
   "metadata": {},
   "outputs": [],
   "source": []
  }
 ],
 "metadata": {
  "kernelspec": {
   "display_name": ".env",
   "language": "python",
   "name": "python3"
  },
  "language_info": {
   "codemirror_mode": {
    "name": "ipython",
    "version": 3
   },
   "file_extension": ".py",
   "mimetype": "text/x-python",
   "name": "python",
   "nbconvert_exporter": "python",
   "pygments_lexer": "ipython3",
   "version": "3.9.20"
  }
 },
 "nbformat": 4,
 "nbformat_minor": 2
}
