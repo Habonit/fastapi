{
 "cells": [
  {
   "cell_type": "code",
   "execution_count": 1,
   "metadata": {},
   "outputs": [
    {
     "name": "stdout",
     "output_type": "stream",
     "text": [
      "A에게 배달 완료!\n",
      "A 식사 완료, 1시간 소요...\n",
      "A 그릇 수거 완료\n",
      "B에게 배달 완료!\n",
      "B 식사 완료, 1시간 소요...\n",
      "B 그릇 수거 완료\n",
      "C에게 배달 완료!\n",
      "C 식사 완료, 1시간 소요...\n",
      "C 그릇 수거 완료\n",
      "None\n",
      "3.003981828689575\n"
     ]
    }
   ],
   "source": [
    "# 동기 함수(sync 상황)\n",
    "import time\n",
    "\n",
    "def delivery(name, mealtime):\n",
    "    print(f\"{name}에게 배달 완료!\")\n",
    "    time.sleep(mealtime)\n",
    "    print(f\"{name} 식사 완료, {mealtime}시간 소요...\")\n",
    "    print(f\"{name} 그릇 수거 완료\")\n",
    "\n",
    "\n",
    "def main():\n",
    "    delivery(\"A\", 1)\n",
    "    delivery(\"B\", 1)\n",
    "    delivery(\"C\", 1)\n",
    "\n",
    "\n",
    "if __name__ == \"__main__\":\n",
    "    start = time.time()\n",
    "    print(main())  # None\n",
    "    end = time.time()\n",
    "    print(end - start)\n"
   ]
  },
  {
   "cell_type": "code",
   "execution_count": null,
   "metadata": {},
   "outputs": [],
   "source": []
  },
  {
   "cell_type": "code",
   "execution_count": null,
   "metadata": {},
   "outputs": [
    {
     "name": "stdout",
     "output_type": "stream",
     "text": [
      "A에게 배달 완료!\n",
      "B에게 배달 완료!\n",
      "C에게 배달 완료!\n",
      "A 식사 완료, 1시간 소요...\n",
      "A 그릇 수거 완료\n",
      "B 식사 완료, 2시간 소요...\n",
      "B 그릇 수거 완료\n",
      "C 식사 완료, 3시간 소요...\n",
      "C 그릇 수거 완료\n",
      "[1, 2, 3]\n",
      "3.0044608116149902\n"
     ]
    }
   ],
   "source": [
    "# async는 코루틴 함수이다.\n",
    "# I/O Bound 상황을 극복할 수 있는 방법\n",
    "# 싱글 코어에서 일어나는 비동기 함수\n",
    "\n",
    "import time\n",
    "import asyncio\n",
    "\n",
    "\n",
    "async def delivery(name, mealtime):\n",
    "    print(f\"{name}에게 배달 완료!\")\n",
    "    # 해당 함수를 기다리는 동안 다른 작업으로 나갈 수 있다. \n",
    "    await asyncio.sleep(mealtime)\n",
    "    print(f\"{name} 식사 완료, {mealtime}시간 소요...\")\n",
    "    print(f\"{name} 그릇 수거 완료\")\n",
    "    return mealtime\n",
    "\n",
    "\n",
    "async def main():\n",
    "\n",
    "    result = await asyncio.gather(\n",
    "        delivery(\"A\", 1),\n",
    "        delivery(\"B\", 2),\n",
    "        delivery(\"C\", 3),\n",
    "    )\n",
    "\n",
    "    print(result)\n",
    "\n",
    "\n",
    "if __name__ == \"__main__\":\n",
    "    start = time.time()\n",
    "    asyncio.run(main())\n",
    "    end = time.time()\n",
    "    print(end - start)\n"
   ]
  },
  {
   "cell_type": "code",
   "execution_count": null,
   "metadata": {},
   "outputs": [],
   "source": [
    "# https://2.python-requests.org/en/master/user/advanced/#id1\n",
    "# pip install requests\n",
    "\n",
    "import requests\n",
    "import time\n",
    "\n",
    "\n",
    "def fetcher(session, url):\n",
    "    with session.get(url) as response:\n",
    "        return response.text\n",
    "\n",
    "\n",
    "def main():\n",
    "    urls = [\"https://naver.com\", \"https://google.com\", \"https://instagram.com\"] * 10\n",
    "\n",
    "    with requests.Session() as session:\n",
    "        result = [fetcher(session, url) for url in urls]\n",
    "        print(result)\n",
    "\n",
    "\n",
    "if __name__ == \"__main__\":\n",
    "    start = time.time()\n",
    "    main()\n",
    "    end = time.time()\n",
    "    print(end - start)  # 12"
   ]
  },
  {
   "cell_type": "code",
   "execution_count": null,
   "metadata": {},
   "outputs": [],
   "source": [
    "import aiohttp\n",
    "import time\n",
    "import asyncio\n",
    "\n",
    "nest_asyncio.apply()  # Jupyter에서 이벤트 루프 중첩 허용\n",
    "\n",
    "async def fetcher(session, url):\n",
    "    async with session.get(url) as response:\n",
    "        return await response.text()\n",
    "        \n",
    "async def main():\n",
    "    urls = ['https://naver.com','https://google.com']\n",
    "    \n",
    "    async with aiohttp.ClientSession() as session:\n",
    "        result = await asyncio.gather(*[fetcher(session, url) for url in urls])\n",
    "        print(result)\n",
    "    return result\n",
    "        \n",
    "if __name__ == '__main__':\n",
    "    start = time.time()\n",
    "    a = asyncio.run(main())\n",
    "    end = time.time()\n",
    "    print(start-end)"
   ]
  },
  {
   "cell_type": "code",
   "execution_count": null,
   "metadata": {},
   "outputs": [],
   "source": []
  }
 ],
 "metadata": {
  "kernelspec": {
   "display_name": ".env",
   "language": "python",
   "name": "python3"
  },
  "language_info": {
   "codemirror_mode": {
    "name": "ipython",
    "version": 3
   },
   "file_extension": ".py",
   "mimetype": "text/x-python",
   "name": "python",
   "nbconvert_exporter": "python",
   "pygments_lexer": "ipython3",
   "version": "3.9.20"
  }
 },
 "nbformat": 4,
 "nbformat_minor": 2
}
